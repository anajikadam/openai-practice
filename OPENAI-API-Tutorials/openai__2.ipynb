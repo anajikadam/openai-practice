{
 "cells": [
  {
   "attachments": {},
   "cell_type": "markdown",
   "metadata": {},
   "source": [
    "## The Power OF Function Calling using OpenAI API"
   ]
  },
  {
   "cell_type": "code",
   "execution_count": 2,
   "metadata": {},
   "outputs": [],
   "source": [
    "import os\n",
    "import openai\n",
    "from dotenv import load_dotenv\n",
    "\n",
    "openai.api_key = os.getenv('OPEN_API_KEY_2')"
   ]
  },
  {
   "cell_type": "code",
   "execution_count": 3,
   "metadata": {},
   "outputs": [],
   "source": [
    "completion=openai.ChatCompletion.create(\n",
    "    model=\"gpt-3.5-turbo\",\n",
    "    messages=[\n",
    "        {\"role\": \"system\", \"content\": \"You are a assistant which informs about temperature.\"},\n",
    "        {\"role\": \"user\", \"content\": \"Hey there\"}\n",
    "    ]\n",
    ")"
   ]
  },
  {
   "cell_type": "code",
   "execution_count": 4,
   "metadata": {},
   "outputs": [
    {
     "name": "stdout",
     "output_type": "stream",
     "text": [
      "{\n",
      "  \"role\": \"assistant\",\n",
      "  \"content\": \"Hello! How can I assist you today?\"\n",
      "}\n"
     ]
    }
   ],
   "source": [
    "print(completion.choices[0].message)"
   ]
  },
  {
   "cell_type": "code",
   "execution_count": 5,
   "metadata": {},
   "outputs": [],
   "source": [
    "# Example dummy function hard coded to return the same weather\n",
    "# In production, this could be your backend API or an external API\n",
    "import requests\n",
    "def get_current_weather(location):\n",
    "    \"\"\"Get the current weather in a given location\"\"\"\n",
    "\n",
    "    url = \"https://ai-weather-by-meteosource.p.rapidapi.com/find_places\"\n",
    "\n",
    "    querystring = {\"text\":location, \"language\":\"en\"}\n",
    "\n",
    "    headers = {\n",
    "      \"X-RapidAPI-Key\": \"XXXX\",\n",
    "      \"X-RapidAPI-Host\": \"ai-weather-by-meteosource.p.rapidapi.com\"\n",
    "    }\n",
    "\n",
    "    response = requests.get(url, headers=headers, params=querystring)\n",
    "\n",
    "    print(response.json())\n",
    "  \n",
    "    return response.json()\n",
    "\n",
    "\n"
   ]
  },
  {
   "cell_type": "code",
   "execution_count": 6,
   "metadata": {},
   "outputs": [
    {
     "name": "stdout",
     "output_type": "stream",
     "text": [
      "[{'name': 'Pune', 'place_id': 'pune', 'adm_area1': 'Maharashtra', 'adm_area2': 'Pune', 'country': 'India', 'lat': '18.51957N', 'lon': '73.85535E', 'timezone': 'Asia/Kolkata', 'type': 'settlement'}, {'name': 'Pune', 'place_id': 'pune-3391144', 'adm_area1': 'Pará', 'adm_area2': 'Almeirim', 'country': 'Brazil', 'lat': '1.96667N', 'lon': '54.91667W', 'timezone': 'America/Santarem', 'type': 'settlement'}, {'name': 'Pune', 'place_id': 'pune-1944337', 'adm_area1': 'Oecusse', 'adm_area2': 'Oesilo', 'country': 'Timor-Leste', 'lat': '9.36944S', 'lon': '124.31722E', 'timezone': 'Asia/Dili', 'type': 'settlement'}, {'name': 'Pune', 'place_id': 'pune-division', 'adm_area1': 'Maharashtra', 'adm_area2': 'Pune', 'country': 'India', 'lat': '18.74673N', 'lon': '73.75465E', 'timezone': 'Asia/Kolkata', 'type': 'administrative_area'}, {'name': 'Pune District', 'place_id': 'pune-district-1259230', 'adm_area1': 'Maharashtra', 'adm_area2': None, 'country': 'India', 'lat': '18.75N', 'lon': '73.75E', 'timezone': 'Asia/Kolkata', 'type': 'administrative_area'}, {'name': 'Pimpri', 'place_id': 'pimpri', 'adm_area1': 'Maharashtra', 'adm_area2': 'Pune', 'country': 'India', 'lat': '18.62292N', 'lon': '73.80696E', 'timezone': 'Asia/Kolkata', 'type': 'settlement'}, {'name': 'Shivaji Nagar', 'place_id': 'shivaji-nagar', 'adm_area1': 'Maharashtra', 'adm_area2': 'Pune', 'country': 'India', 'lat': '18.53017N', 'lon': '73.85263E', 'timezone': 'Asia/Kolkata', 'type': 'settlement'}, {'name': 'Daund', 'place_id': 'daund', 'adm_area1': 'Maharashtra', 'adm_area2': 'Pune', 'country': 'India', 'lat': '18.46515N', 'lon': '74.58375E', 'timezone': 'Asia/Kolkata', 'type': 'settlement'}, {'name': 'Khadki', 'place_id': 'khadki', 'adm_area1': 'Maharashtra', 'adm_area2': 'Pune', 'country': 'India', 'lat': '18.5635N', 'lon': '73.85205E', 'timezone': 'Asia/Kolkata', 'type': 'settlement'}, {'name': 'Lonavla', 'place_id': 'lonavla', 'adm_area1': 'Maharashtra', 'adm_area2': 'Pune', 'country': 'India', 'lat': '18.75275N', 'lon': '73.40575E', 'timezone': 'Asia/Kolkata', 'type': 'settlement'}]\n"
     ]
    },
    {
     "data": {
      "text/plain": [
       "[{'name': 'Pune',\n",
       "  'place_id': 'pune',\n",
       "  'adm_area1': 'Maharashtra',\n",
       "  'adm_area2': 'Pune',\n",
       "  'country': 'India',\n",
       "  'lat': '18.51957N',\n",
       "  'lon': '73.85535E',\n",
       "  'timezone': 'Asia/Kolkata',\n",
       "  'type': 'settlement'},\n",
       " {'name': 'Pune',\n",
       "  'place_id': 'pune-3391144',\n",
       "  'adm_area1': 'Pará',\n",
       "  'adm_area2': 'Almeirim',\n",
       "  'country': 'Brazil',\n",
       "  'lat': '1.96667N',\n",
       "  'lon': '54.91667W',\n",
       "  'timezone': 'America/Santarem',\n",
       "  'type': 'settlement'},\n",
       " {'name': 'Pune',\n",
       "  'place_id': 'pune-1944337',\n",
       "  'adm_area1': 'Oecusse',\n",
       "  'adm_area2': 'Oesilo',\n",
       "  'country': 'Timor-Leste',\n",
       "  'lat': '9.36944S',\n",
       "  'lon': '124.31722E',\n",
       "  'timezone': 'Asia/Dili',\n",
       "  'type': 'settlement'},\n",
       " {'name': 'Pune',\n",
       "  'place_id': 'pune-division',\n",
       "  'adm_area1': 'Maharashtra',\n",
       "  'adm_area2': 'Pune',\n",
       "  'country': 'India',\n",
       "  'lat': '18.74673N',\n",
       "  'lon': '73.75465E',\n",
       "  'timezone': 'Asia/Kolkata',\n",
       "  'type': 'administrative_area'},\n",
       " {'name': 'Pune District',\n",
       "  'place_id': 'pune-district-1259230',\n",
       "  'adm_area1': 'Maharashtra',\n",
       "  'adm_area2': None,\n",
       "  'country': 'India',\n",
       "  'lat': '18.75N',\n",
       "  'lon': '73.75E',\n",
       "  'timezone': 'Asia/Kolkata',\n",
       "  'type': 'administrative_area'},\n",
       " {'name': 'Pimpri',\n",
       "  'place_id': 'pimpri',\n",
       "  'adm_area1': 'Maharashtra',\n",
       "  'adm_area2': 'Pune',\n",
       "  'country': 'India',\n",
       "  'lat': '18.62292N',\n",
       "  'lon': '73.80696E',\n",
       "  'timezone': 'Asia/Kolkata',\n",
       "  'type': 'settlement'},\n",
       " {'name': 'Shivaji Nagar',\n",
       "  'place_id': 'shivaji-nagar',\n",
       "  'adm_area1': 'Maharashtra',\n",
       "  'adm_area2': 'Pune',\n",
       "  'country': 'India',\n",
       "  'lat': '18.53017N',\n",
       "  'lon': '73.85263E',\n",
       "  'timezone': 'Asia/Kolkata',\n",
       "  'type': 'settlement'},\n",
       " {'name': 'Daund',\n",
       "  'place_id': 'daund',\n",
       "  'adm_area1': 'Maharashtra',\n",
       "  'adm_area2': 'Pune',\n",
       "  'country': 'India',\n",
       "  'lat': '18.46515N',\n",
       "  'lon': '74.58375E',\n",
       "  'timezone': 'Asia/Kolkata',\n",
       "  'type': 'settlement'},\n",
       " {'name': 'Khadki',\n",
       "  'place_id': 'khadki',\n",
       "  'adm_area1': 'Maharashtra',\n",
       "  'adm_area2': 'Pune',\n",
       "  'country': 'India',\n",
       "  'lat': '18.5635N',\n",
       "  'lon': '73.85205E',\n",
       "  'timezone': 'Asia/Kolkata',\n",
       "  'type': 'settlement'},\n",
       " {'name': 'Lonavla',\n",
       "  'place_id': 'lonavla',\n",
       "  'adm_area1': 'Maharashtra',\n",
       "  'adm_area2': 'Pune',\n",
       "  'country': 'India',\n",
       "  'lat': '18.75275N',\n",
       "  'lon': '73.40575E',\n",
       "  'timezone': 'Asia/Kolkata',\n",
       "  'type': 'settlement'}]"
      ]
     },
     "execution_count": 6,
     "metadata": {},
     "output_type": "execute_result"
    }
   ],
   "source": [
    "response = get_current_weather('Pune')\n",
    "response"
   ]
  },
  {
   "cell_type": "code",
   "execution_count": 7,
   "metadata": {},
   "outputs": [],
   "source": [
    "functions = [\n",
    "        {\n",
    "            \"name\": \"get_current_weather\",\n",
    "            \"description\": \"Get the current weather in a given location\",\n",
    "            \"parameters\": {\n",
    "                \"type\": \"object\",\n",
    "                \"properties\": {\n",
    "                    \"location\": {\n",
    "                        \"type\": \"string\",\n",
    "                        \"description\": \"The city and state, e.g. San Francisco, CA\",\n",
    "                    },\n",
    "                    \n",
    "                },\n",
    "                \"required\": [\"location\"],\n",
    "            },\n",
    "        }\n",
    "    ]"
   ]
  },
  {
   "cell_type": "code",
   "execution_count": 8,
   "metadata": {},
   "outputs": [
    {
     "data": {
      "text/plain": [
       "[{'name': 'get_current_weather',\n",
       "  'description': 'Get the current weather in a given location',\n",
       "  'parameters': {'type': 'object',\n",
       "   'properties': {'location': {'type': 'string',\n",
       "     'description': 'The city and state, e.g. San Francisco, CA'}},\n",
       "   'required': ['location']}}]"
      ]
     },
     "execution_count": 8,
     "metadata": {},
     "output_type": "execute_result"
    }
   ],
   "source": [
    "functions"
   ]
  },
  {
   "cell_type": "code",
   "execution_count": 9,
   "metadata": {},
   "outputs": [],
   "source": [
    "\n",
    "user_message=\"Hi There\"\n",
    "messages=[]\n",
    "messages.append({\"role\": \"user\", \"content\":user_message})\n",
    "\n",
    "completion_1 = openai.ChatCompletion.create(\n",
    "                                model=\"gpt-3.5-turbo\",\n",
    "                                messages= messages\n",
    "    \n",
    ")"
   ]
  },
  {
   "cell_type": "code",
   "execution_count": 10,
   "metadata": {},
   "outputs": [
    {
     "name": "stdout",
     "output_type": "stream",
     "text": [
      "{\n",
      "  \"role\": \"assistant\",\n",
      "  \"content\": \"Hello! How are you?\"\n",
      "}\n"
     ]
    }
   ],
   "source": [
    "print(completion_1.choices[0].message)"
   ]
  },
  {
   "cell_type": "code",
   "execution_count": 11,
   "metadata": {},
   "outputs": [
    {
     "data": {
      "text/plain": [
       "[{'role': 'user', 'content': 'Hi There'}]"
      ]
     },
     "execution_count": 11,
     "metadata": {},
     "output_type": "execute_result"
    }
   ],
   "source": [
    "messages"
   ]
  },
  {
   "cell_type": "code",
   "execution_count": 20,
   "metadata": {},
   "outputs": [],
   "source": [
    "user_message=\"What is the temperature of Pune\"\n",
    "\n",
    "messages.append({\"role\": \"user\", \"content\": user_message})\n",
    "\n",
    "completion_2 = openai.ChatCompletion.create(\n",
    "                                            model=\"gpt-3.5-turbo-0613\",\n",
    "                                            messages=messages,\n",
    "                                            functions=functions\n",
    ")"
   ]
  },
  {
   "cell_type": "code",
   "execution_count": 21,
   "metadata": {},
   "outputs": [
    {
     "data": {
      "text/plain": [
       "[{'role': 'user', 'content': 'Hi There'},\n",
       " {'role': 'user', 'content': 'What is the temperature of Bangalore'},\n",
       " {'role': 'user', 'content': 'What is the temperature of Pune'}]"
      ]
     },
     "execution_count": 21,
     "metadata": {},
     "output_type": "execute_result"
    }
   ],
   "source": [
    "messages"
   ]
  },
  {
   "cell_type": "code",
   "execution_count": 22,
   "metadata": {},
   "outputs": [
    {
     "data": {
      "text/plain": [
       "<OpenAIObject chat.completion id=chatcmpl-88ir06HRFXKf5GpWAGx5DnqFrqxRa at 0x26871246e50> JSON: {\n",
       "  \"id\": \"chatcmpl-88ir06HRFXKf5GpWAGx5DnqFrqxRa\",\n",
       "  \"object\": \"chat.completion\",\n",
       "  \"created\": 1697089734,\n",
       "  \"model\": \"gpt-3.5-turbo-0613\",\n",
       "  \"choices\": [\n",
       "    {\n",
       "      \"index\": 0,\n",
       "      \"message\": {\n",
       "        \"role\": \"assistant\",\n",
       "        \"content\": null,\n",
       "        \"function_call\": {\n",
       "          \"name\": \"get_current_weather\",\n",
       "          \"arguments\": \"{\\n  \\\"location\\\": \\\"Pune\\\"\\n}\"\n",
       "        }\n",
       "      },\n",
       "      \"finish_reason\": \"function_call\"\n",
       "    }\n",
       "  ],\n",
       "  \"usage\": {\n",
       "    \"prompt_tokens\": 85,\n",
       "    \"completion_tokens\": 17,\n",
       "    \"total_tokens\": 102\n",
       "  }\n",
       "}"
      ]
     },
     "execution_count": 22,
     "metadata": {},
     "output_type": "execute_result"
    }
   ],
   "source": [
    "completion_2"
   ]
  },
  {
   "cell_type": "code",
   "execution_count": 23,
   "metadata": {},
   "outputs": [
    {
     "name": "stdout",
     "output_type": "stream",
     "text": [
      "{\n",
      "  \"role\": \"assistant\",\n",
      "  \"content\": null,\n",
      "  \"function_call\": {\n",
      "    \"name\": \"get_current_weather\",\n",
      "    \"arguments\": \"{\\n  \\\"location\\\": \\\"Pune\\\"\\n}\"\n",
      "  }\n",
      "}\n"
     ]
    }
   ],
   "source": [
    "print(completion_2.choices[0].message)"
   ]
  },
  {
   "cell_type": "code",
   "execution_count": 24,
   "metadata": {},
   "outputs": [],
   "source": [
    "response = completion_2.choices[0].message"
   ]
  },
  {
   "cell_type": "code",
   "execution_count": 25,
   "metadata": {},
   "outputs": [
    {
     "data": {
      "text/plain": [
       "<OpenAIObject at 0x268693bae00> JSON: {\n",
       "  \"role\": \"assistant\",\n",
       "  \"content\": null,\n",
       "  \"function_call\": {\n",
       "    \"name\": \"get_current_weather\",\n",
       "    \"arguments\": \"{\\n  \\\"location\\\": \\\"Pune\\\"\\n}\"\n",
       "  }\n",
       "}"
      ]
     },
     "execution_count": 25,
     "metadata": {},
     "output_type": "execute_result"
    }
   ],
   "source": [
    "response"
   ]
  },
  {
   "cell_type": "code",
   "execution_count": 26,
   "metadata": {},
   "outputs": [
    {
     "name": "stdout",
     "output_type": "stream",
     "text": [
      "get_current_weather\n"
     ]
    }
   ],
   "source": [
    "function_name = response['function_call']['name']\n",
    "print(function_name)\n"
   ]
  },
  {
   "cell_type": "code",
   "execution_count": 27,
   "metadata": {},
   "outputs": [
    {
     "name": "stdout",
     "output_type": "stream",
     "text": [
      "Pune\n"
     ]
    }
   ],
   "source": [
    "import json\n",
    "location=eval(response['function_call']['arguments'])['location']\n",
    "print(location)"
   ]
  },
  {
   "cell_type": "code",
   "execution_count": 28,
   "metadata": {},
   "outputs": [],
   "source": [
    "# Step 4: send the info on the function call and function response to GPT\n",
    "messages.append(response)  # extend conversation with assistant's reply\n",
    "messages.append(\n",
    "    {\n",
    "        \"role\": \"function\",\n",
    "        \"name\": function_name,\n",
    "        \"content\": location,\n",
    "    }\n",
    ")"
   ]
  },
  {
   "cell_type": "code",
   "execution_count": 29,
   "metadata": {},
   "outputs": [
    {
     "data": {
      "text/plain": [
       "[{'role': 'user', 'content': 'Hi There'},\n",
       " {'role': 'user', 'content': 'What is the temperature of Bangalore'},\n",
       " {'role': 'user', 'content': 'What is the temperature of Pune'},\n",
       " <OpenAIObject at 0x268693bae00> JSON: {\n",
       "   \"role\": \"assistant\",\n",
       "   \"content\": null,\n",
       "   \"function_call\": {\n",
       "     \"name\": \"get_current_weather\",\n",
       "     \"arguments\": \"{\\n  \\\"location\\\": \\\"Pune\\\"\\n}\"\n",
       "   }\n",
       " },\n",
       " {'role': 'function', 'name': 'get_current_weather', 'content': 'Pune'}]"
      ]
     },
     "execution_count": 29,
     "metadata": {},
     "output_type": "execute_result"
    }
   ],
   "source": [
    "messages"
   ]
  },
  {
   "cell_type": "code",
   "execution_count": 30,
   "metadata": {},
   "outputs": [],
   "source": [
    "# extend conversation with function response\n",
    "second_response = openai.ChatCompletion.create(\n",
    "                                            model=\"gpt-3.5-turbo-0613\",\n",
    "                                            messages=messages,\n",
    "                                            functions=functions\n",
    ")  \n",
    "# get a new response from GPT where it can see the function response\n",
    "\n"
   ]
  },
  {
   "cell_type": "code",
   "execution_count": 31,
   "metadata": {},
   "outputs": [
    {
     "name": "stdout",
     "output_type": "stream",
     "text": [
      "{\n",
      "  \"role\": \"assistant\",\n",
      "  \"content\": \"The current temperature in Pune is 32 degrees Celsius.\"\n",
      "}\n"
     ]
    }
   ],
   "source": [
    "print(second_response.choices[0].message)"
   ]
  },
  {
   "cell_type": "code",
   "execution_count": 32,
   "metadata": {},
   "outputs": [
    {
     "data": {
      "text/plain": [
       "<OpenAIObject chat.completion id=chatcmpl-88itLCgzqnbV6xLLFM14Yf8BhZD9B at 0x2687127cef0> JSON: {\n",
       "  \"id\": \"chatcmpl-88itLCgzqnbV6xLLFM14Yf8BhZD9B\",\n",
       "  \"object\": \"chat.completion\",\n",
       "  \"created\": 1697089879,\n",
       "  \"model\": \"gpt-3.5-turbo-0613\",\n",
       "  \"choices\": [\n",
       "    {\n",
       "      \"index\": 0,\n",
       "      \"message\": {\n",
       "        \"role\": \"assistant\",\n",
       "        \"content\": \"The current temperature in Pune is 32 degrees Celsius.\"\n",
       "      },\n",
       "      \"finish_reason\": \"stop\"\n",
       "    }\n",
       "  ],\n",
       "  \"usage\": {\n",
       "    \"prompt_tokens\": 113,\n",
       "    \"completion_tokens\": 12,\n",
       "    \"total_tokens\": 125\n",
       "  }\n",
       "}"
      ]
     },
     "execution_count": 32,
     "metadata": {},
     "output_type": "execute_result"
    }
   ],
   "source": [
    "second_response"
   ]
  },
  {
   "cell_type": "code",
   "execution_count": 34,
   "metadata": {},
   "outputs": [],
   "source": [
    "def get_current_weather(location):\n",
    "    \"\"\"Get the current weather in a given location\"\"\"\n",
    "\n",
    "    url = \"https://ai-weather-by-meteosource.p.rapidapi.com/find_places\"\n",
    "\n",
    "    querystring = {\"text\":location, \"language\":\"en\"}\n",
    "\n",
    "    headers = {\n",
    "      \"X-RapidAPI-Key\": \"XXXX\",\n",
    "      \"X-RapidAPI-Host\": \"ai-weather-by-meteosource.p.rapidapi.com\"\n",
    "    }\n",
    "\n",
    "    response = requests.get(url, headers=headers, params=querystring)\n",
    "\n",
    "    # print(response.json())\n",
    "  \n",
    "    return response.json()"
   ]
  },
  {
   "cell_type": "code",
   "execution_count": 36,
   "metadata": {},
   "outputs": [],
   "source": [
    "response = get_current_weather('Pune')\n"
   ]
  },
  {
   "cell_type": "code",
   "execution_count": 44,
   "metadata": {},
   "outputs": [
    {
     "data": {
      "text/plain": [
       "[{'name': 'Shivaji Nagar',\n",
       "  'place_id': 'shivaji-nagar',\n",
       "  'adm_area1': 'Maharashtra',\n",
       "  'adm_area2': 'Pune',\n",
       "  'country': 'India',\n",
       "  'lat': '18.53017N',\n",
       "  'lon': '73.85263E',\n",
       "  'timezone': 'Asia/Kolkata',\n",
       "  'type': 'settlement'}]"
      ]
     },
     "execution_count": 44,
     "metadata": {},
     "output_type": "execute_result"
    }
   ],
   "source": [
    "[i for i in response if (i['adm_area1'] == 'Maharashtra') and (i['place_id']=='shivaji-nagar')]"
   ]
  },
  {
   "cell_type": "code",
   "execution_count": null,
   "metadata": {},
   "outputs": [],
   "source": []
  },
  {
   "cell_type": "code",
   "execution_count": null,
   "metadata": {},
   "outputs": [],
   "source": []
  },
  {
   "cell_type": "code",
   "execution_count": 45,
   "metadata": {},
   "outputs": [
    {
     "name": "stdout",
     "output_type": "stream",
     "text": [
      "{'lat': '18.53017N', 'lon': '73.85263E', 'elevation': 554, 'timezone': 'Asia/Kolkata', 'units': 'metric', 'current': {'icon': 'partly_sunny', 'icon_num': 4, 'summary': 'Partly sunny', 'temperature': 28.8, 'feels_like': 30.5, 'wind_chill': 31.0, 'dew_point': 17.0, 'wind': {'speed': 3.1, 'gusts': 4.8, 'angle': 99, 'dir': 'E'}, 'precipitation': {'total': 0.0, 'type': 'none'}, 'cloud_cover': 47, 'ozone': 272.4, 'pressure': 1015, 'uv_index': 6.66, 'humidity': 49, 'visibility': 24.14}}\n"
     ]
    }
   ],
   "source": [
    "# ai-weather-by-meteosource\n",
    "import requests\n",
    "\n",
    "url = \"https://ai-weather-by-meteosource.p.rapidapi.com/current\"\n",
    "\n",
    "querystring = {\"lat\":\"18.53017\",\"lon\":\"73.85263\",\"timezone\":\"auto\",\"language\":\"en\",\"units\":\"auto\"}\n",
    "\n",
    "headers = {\n",
    "\t\"X-RapidAPI-Key\": \"XXXX\",\n",
    "\t\"X-RapidAPI-Host\": \"ai-weather-by-meteosource.p.rapidapi.com\"\n",
    "}\n",
    "\n",
    "response = requests.get(url, headers=headers, params=querystring)\n",
    "\n",
    "print(response.json())"
   ]
  },
  {
   "cell_type": "code",
   "execution_count": 47,
   "metadata": {},
   "outputs": [
    {
     "data": {
      "text/plain": [
       "{'icon': 'partly_sunny',\n",
       " 'icon_num': 4,\n",
       " 'summary': 'Partly sunny',\n",
       " 'temperature': 28.8,\n",
       " 'feels_like': 30.5,\n",
       " 'wind_chill': 31.0,\n",
       " 'dew_point': 17.0,\n",
       " 'wind': {'speed': 3.1, 'gusts': 4.8, 'angle': 99, 'dir': 'E'},\n",
       " 'precipitation': {'total': 0.0, 'type': 'none'},\n",
       " 'cloud_cover': 47,\n",
       " 'ozone': 272.4,\n",
       " 'pressure': 1015,\n",
       " 'uv_index': 6.66,\n",
       " 'humidity': 49,\n",
       " 'visibility': 24.14}"
      ]
     },
     "execution_count": 47,
     "metadata": {},
     "output_type": "execute_result"
    }
   ],
   "source": [
    "js = response.json()['current']\n",
    "js"
   ]
  },
  {
   "cell_type": "code",
   "execution_count": null,
   "metadata": {},
   "outputs": [],
   "source": []
  }
 ],
 "metadata": {
  "kernelspec": {
   "display_name": "Python 3",
   "language": "python",
   "name": "python3"
  },
  "language_info": {
   "codemirror_mode": {
    "name": "ipython",
    "version": 3
   },
   "file_extension": ".py",
   "mimetype": "text/x-python",
   "name": "python",
   "nbconvert_exporter": "python",
   "pygments_lexer": "ipython3",
   "version": "3.9.10"
  },
  "orig_nbformat": 4
 },
 "nbformat": 4,
 "nbformat_minor": 2
}
